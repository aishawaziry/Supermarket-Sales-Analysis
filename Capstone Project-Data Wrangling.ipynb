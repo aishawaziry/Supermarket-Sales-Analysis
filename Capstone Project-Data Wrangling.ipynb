{
  "cells": [
    {
      "cell_type": "markdown",
      "metadata": {},
      "source": [
        "# Project Description\n",
        "The supermarket sales dataset captures detailed transaction information from different branches of a supermarket chain. \n",
        "Description of each column:\n",
        "\n",
        "1. Invoice ID: A unique identifier for each transaction.\n",
        "2. Branch: Indicates the branch location where the sale occurred, typically identified by city names or branch codes.\n",
        "3. Yangon, Naypyitaw, Mandalay: Specific branches or cities where the transactions took place.\n",
        "4. Customer type: Classifies customers, such as \"Member\" or \"Normal,\" indicating whether they are part of a loyalty program.\n",
        "5. Gender: The gender of the customer, usually classified as Male or Female.\n",
        "6. Product line: Categories of products sold, such as \"Electronics,\" \"Food,\" or \"Fashion.\"\n",
        "7. Unit price: The price of a single unit of the product sold.\n",
        "8. Quantity: The number of units sold in a single transaction.\n",
        "9. Tax 5%: The amount of tax applied to the transaction, calculated as 5% of the subtotal.\n",
        "10. Total: The total amount paid by the customer, including tax.\n",
        "11. Date: The date on which the transaction occurred.\n",
        "12. Time: The exact time when the transaction was processed.\n",
        "13. Payment: The payment method used by the customer, such as \"Cash,\" \"Credit Card,\" or \"E-wallet.\"\n",
        "14. Rating: Customer feedback rating for the transaction, often on a scale from 1 to 100."
      ]
    },
    {
      "cell_type": "code",
      "execution_count": 63,
      "metadata": {},
      "outputs": [],
      "source": [
        "import pandas as pd\n",
        "import matplotlib.pyplot as plt\n",
        "import numpy as np\n",
        "from datetime import datetime\n",
        "import seaborn as sns\n"
      ]
    },
    {
      "cell_type": "markdown",
      "metadata": {},
      "source": [
        "## Gather"
      ]
    },
    {
      "cell_type": "code",
      "execution_count": 64,
      "metadata": {
        "id": "AWQ4f5G2z0PV"
      },
      "outputs": [],
      "source": [
        "# Read the CSV file into a DataFrame\n",
        "df=pd.read_csv(\"Capstone Data - Supermarket Sales.csv\")\n"
      ]
    },
    {
      "cell_type": "markdown",
      "metadata": {},
      "source": [
        "## Assess"
      ]
    },
    {
      "cell_type": "code",
      "execution_count": 65,
      "metadata": {},
      "outputs": [
        {
          "data": {
            "text/html": [
              "<div>\n",
              "<style scoped>\n",
              "    .dataframe tbody tr th:only-of-type {\n",
              "        vertical-align: middle;\n",
              "    }\n",
              "\n",
              "    .dataframe tbody tr th {\n",
              "        vertical-align: top;\n",
              "    }\n",
              "\n",
              "    .dataframe thead th {\n",
              "        text-align: right;\n",
              "    }\n",
              "</style>\n",
              "<table border=\"1\" class=\"dataframe\">\n",
              "  <thead>\n",
              "    <tr style=\"text-align: right;\">\n",
              "      <th></th>\n",
              "      <th>Invoice ID</th>\n",
              "      <th>Branch</th>\n",
              "      <th>Yangon</th>\n",
              "      <th>Naypyitaw</th>\n",
              "      <th>Mandalay</th>\n",
              "      <th>Customer type</th>\n",
              "      <th>Gender</th>\n",
              "      <th>Product line</th>\n",
              "      <th>Unit price</th>\n",
              "      <th>Quantity</th>\n",
              "      <th>Tax 5%</th>\n",
              "      <th>Total</th>\n",
              "      <th>Date</th>\n",
              "      <th>Time</th>\n",
              "      <th>Payment</th>\n",
              "      <th>Rating</th>\n",
              "    </tr>\n",
              "  </thead>\n",
              "  <tbody>\n",
              "    <tr>\n",
              "      <th>0</th>\n",
              "      <td>750-67-8428</td>\n",
              "      <td>A</td>\n",
              "      <td>1</td>\n",
              "      <td>0</td>\n",
              "      <td>0</td>\n",
              "      <td>Normal</td>\n",
              "      <td>Male</td>\n",
              "      <td>Health and beauty</td>\n",
              "      <td>74.69</td>\n",
              "      <td>7</td>\n",
              "      <td>26.1415</td>\n",
              "      <td>NaN</td>\n",
              "      <td>1/5/2019</td>\n",
              "      <td>13:08</td>\n",
              "      <td>Ewallet</td>\n",
              "      <td>9.1</td>\n",
              "    </tr>\n",
              "    <tr>\n",
              "      <th>1</th>\n",
              "      <td>226-31-3081</td>\n",
              "      <td>C</td>\n",
              "      <td>0</td>\n",
              "      <td>1</td>\n",
              "      <td>0</td>\n",
              "      <td>Normal</td>\n",
              "      <td>Male</td>\n",
              "      <td>Electronic accessories</td>\n",
              "      <td>15.28</td>\n",
              "      <td>5</td>\n",
              "      <td>3.8200</td>\n",
              "      <td>80.2200</td>\n",
              "      <td>3/8/2019</td>\n",
              "      <td>10:29</td>\n",
              "      <td>Cash</td>\n",
              "      <td>9.6</td>\n",
              "    </tr>\n",
              "    <tr>\n",
              "      <th>2</th>\n",
              "      <td>631-41-3108</td>\n",
              "      <td>A</td>\n",
              "      <td>1</td>\n",
              "      <td>0</td>\n",
              "      <td>0</td>\n",
              "      <td>Normal</td>\n",
              "      <td>Male</td>\n",
              "      <td>Home and lifestyle</td>\n",
              "      <td>46.33</td>\n",
              "      <td>7</td>\n",
              "      <td>16.2155</td>\n",
              "      <td>340.5255</td>\n",
              "      <td>3/3/2019</td>\n",
              "      <td>13:23</td>\n",
              "      <td>Credit card</td>\n",
              "      <td>7.4</td>\n",
              "    </tr>\n",
              "    <tr>\n",
              "      <th>3</th>\n",
              "      <td>123-19-1176</td>\n",
              "      <td>A</td>\n",
              "      <td>1</td>\n",
              "      <td>0</td>\n",
              "      <td>0</td>\n",
              "      <td>Normal</td>\n",
              "      <td>Male</td>\n",
              "      <td>Health and beauty</td>\n",
              "      <td>58.22</td>\n",
              "      <td>8</td>\n",
              "      <td>NaN</td>\n",
              "      <td>489.0480</td>\n",
              "      <td>1/27/2019</td>\n",
              "      <td>8 - 30 PM</td>\n",
              "      <td>Ewallet</td>\n",
              "      <td>8.4</td>\n",
              "    </tr>\n",
              "    <tr>\n",
              "      <th>4</th>\n",
              "      <td>373-73-7910</td>\n",
              "      <td>A</td>\n",
              "      <td>1</td>\n",
              "      <td>0</td>\n",
              "      <td>0</td>\n",
              "      <td>Normal</td>\n",
              "      <td>Male</td>\n",
              "      <td>Sports and travel</td>\n",
              "      <td>86.31</td>\n",
              "      <td>7</td>\n",
              "      <td>30.2085</td>\n",
              "      <td>634.3785</td>\n",
              "      <td>2/8/2019</td>\n",
              "      <td>10:37</td>\n",
              "      <td>Ewallet</td>\n",
              "      <td>5.3</td>\n",
              "    </tr>\n",
              "    <tr>\n",
              "      <th>...</th>\n",
              "      <td>...</td>\n",
              "      <td>...</td>\n",
              "      <td>...</td>\n",
              "      <td>...</td>\n",
              "      <td>...</td>\n",
              "      <td>...</td>\n",
              "      <td>...</td>\n",
              "      <td>...</td>\n",
              "      <td>...</td>\n",
              "      <td>...</td>\n",
              "      <td>...</td>\n",
              "      <td>...</td>\n",
              "      <td>...</td>\n",
              "      <td>...</td>\n",
              "      <td>...</td>\n",
              "      <td>...</td>\n",
              "    </tr>\n",
              "    <tr>\n",
              "      <th>1001</th>\n",
              "      <td>861-77-0145</td>\n",
              "      <td>C</td>\n",
              "      <td>0</td>\n",
              "      <td>1</td>\n",
              "      <td>0</td>\n",
              "      <td>Member</td>\n",
              "      <td>Male</td>\n",
              "      <td>Electronic accessories</td>\n",
              "      <td>81.97</td>\n",
              "      <td>10</td>\n",
              "      <td>40.9850</td>\n",
              "      <td>860.6850</td>\n",
              "      <td>3/3/2019</td>\n",
              "      <td>14:30</td>\n",
              "      <td>Cash</td>\n",
              "      <td>9.2</td>\n",
              "    </tr>\n",
              "    <tr>\n",
              "      <th>1002</th>\n",
              "      <td>479-26-8945</td>\n",
              "      <td>B</td>\n",
              "      <td>0</td>\n",
              "      <td>0</td>\n",
              "      <td>1</td>\n",
              "      <td>Member</td>\n",
              "      <td>Female</td>\n",
              "      <td>Sports and travel</td>\n",
              "      <td>16.49</td>\n",
              "      <td>2</td>\n",
              "      <td>1.6490</td>\n",
              "      <td>34.6290</td>\n",
              "      <td>2/5/2019</td>\n",
              "      <td>11:32</td>\n",
              "      <td>Ewallet</td>\n",
              "      <td>4.6</td>\n",
              "    </tr>\n",
              "    <tr>\n",
              "      <th>1003</th>\n",
              "      <td>210-67-5886</td>\n",
              "      <td>C</td>\n",
              "      <td>0</td>\n",
              "      <td>1</td>\n",
              "      <td>0</td>\n",
              "      <td>Member</td>\n",
              "      <td>Female</td>\n",
              "      <td>Health and beauty</td>\n",
              "      <td>98.21</td>\n",
              "      <td>3</td>\n",
              "      <td>14.7315</td>\n",
              "      <td>309.3615</td>\n",
              "      <td>2/5/2019</td>\n",
              "      <td>10:41</td>\n",
              "      <td>Credit card</td>\n",
              "      <td>7.8</td>\n",
              "    </tr>\n",
              "    <tr>\n",
              "      <th>1004</th>\n",
              "      <td>227-78-1148</td>\n",
              "      <td>B</td>\n",
              "      <td>0</td>\n",
              "      <td>0</td>\n",
              "      <td>1</td>\n",
              "      <td>Normal</td>\n",
              "      <td>Female</td>\n",
              "      <td>Fashion accessories</td>\n",
              "      <td>72.84</td>\n",
              "      <td>7</td>\n",
              "      <td>25.4940</td>\n",
              "      <td>535.3740</td>\n",
              "      <td>2/15/2019</td>\n",
              "      <td>12:44</td>\n",
              "      <td>Cash</td>\n",
              "      <td>8.4</td>\n",
              "    </tr>\n",
              "    <tr>\n",
              "      <th>1005</th>\n",
              "      <td>645-44-1170</td>\n",
              "      <td>A</td>\n",
              "      <td>1</td>\n",
              "      <td>0</td>\n",
              "      <td>0</td>\n",
              "      <td>Member</td>\n",
              "      <td>Male</td>\n",
              "      <td>Home and lifestyle</td>\n",
              "      <td>58.07</td>\n",
              "      <td>9</td>\n",
              "      <td>26.1315</td>\n",
              "      <td>548.7615</td>\n",
              "      <td>1/19/2019</td>\n",
              "      <td>20:07</td>\n",
              "      <td>Ewallet</td>\n",
              "      <td>4.3</td>\n",
              "    </tr>\n",
              "  </tbody>\n",
              "</table>\n",
              "<p>1006 rows × 16 columns</p>\n",
              "</div>"
            ],
            "text/plain": [
              "       Invoice ID Branch  Yangon  Naypyitaw  Mandalay Customer type  Gender  \\\n",
              "0     750-67-8428      A       1          0         0        Normal    Male   \n",
              "1     226-31-3081      C       0          1         0        Normal    Male   \n",
              "2     631-41-3108      A       1          0         0        Normal    Male   \n",
              "3     123-19-1176      A       1          0         0        Normal    Male   \n",
              "4     373-73-7910      A       1          0         0        Normal    Male   \n",
              "...           ...    ...     ...        ...       ...           ...     ...   \n",
              "1001  861-77-0145      C       0          1         0        Member    Male   \n",
              "1002  479-26-8945      B       0          0         1        Member  Female   \n",
              "1003  210-67-5886      C       0          1         0        Member  Female   \n",
              "1004  227-78-1148      B       0          0         1        Normal  Female   \n",
              "1005  645-44-1170      A       1          0         0        Member    Male   \n",
              "\n",
              "                Product line Unit price  Quantity   Tax 5%     Total  \\\n",
              "0          Health and beauty      74.69         7  26.1415       NaN   \n",
              "1     Electronic accessories      15.28         5   3.8200   80.2200   \n",
              "2         Home and lifestyle      46.33         7  16.2155  340.5255   \n",
              "3          Health and beauty      58.22         8      NaN  489.0480   \n",
              "4          Sports and travel      86.31         7  30.2085  634.3785   \n",
              "...                      ...        ...       ...      ...       ...   \n",
              "1001  Electronic accessories      81.97        10  40.9850  860.6850   \n",
              "1002       Sports and travel      16.49         2   1.6490   34.6290   \n",
              "1003       Health and beauty      98.21         3  14.7315  309.3615   \n",
              "1004     Fashion accessories      72.84         7  25.4940  535.3740   \n",
              "1005      Home and lifestyle      58.07         9  26.1315  548.7615   \n",
              "\n",
              "           Date       Time      Payment  Rating  \n",
              "0      1/5/2019      13:08      Ewallet     9.1  \n",
              "1      3/8/2019      10:29         Cash     9.6  \n",
              "2      3/3/2019      13:23  Credit card     7.4  \n",
              "3     1/27/2019  8 - 30 PM      Ewallet     8.4  \n",
              "4      2/8/2019      10:37      Ewallet     5.3  \n",
              "...         ...        ...          ...     ...  \n",
              "1001   3/3/2019      14:30         Cash     9.2  \n",
              "1002   2/5/2019      11:32      Ewallet     4.6  \n",
              "1003   2/5/2019      10:41  Credit card     7.8  \n",
              "1004  2/15/2019      12:44         Cash     8.4  \n",
              "1005  1/19/2019      20:07      Ewallet     4.3  \n",
              "\n",
              "[1006 rows x 16 columns]"
            ]
          },
          "execution_count": 65,
          "metadata": {},
          "output_type": "execute_result"
        }
      ],
      "source": [
        "df"
      ]
    },
    {
      "cell_type": "markdown",
      "metadata": {},
      "source": [
        "## data exploring :\n",
        "1. Explore and Understand the Data:"
      ]
    },
    {
      "cell_type": "code",
      "execution_count": 66,
      "metadata": {},
      "outputs": [
        {
          "name": "stdout",
          "output_type": "stream",
          "text": [
            "<class 'pandas.core.frame.DataFrame'>\n",
            "RangeIndex: 1006 entries, 0 to 1005\n",
            "Data columns (total 16 columns):\n",
            " #   Column         Non-Null Count  Dtype  \n",
            "---  ------         --------------  -----  \n",
            " 0   Invoice ID     1006 non-null   object \n",
            " 1   Branch         1006 non-null   object \n",
            " 2   Yangon         1006 non-null   int64  \n",
            " 3   Naypyitaw      1006 non-null   int64  \n",
            " 4   Mandalay       1006 non-null   int64  \n",
            " 5   Customer type  1006 non-null   object \n",
            " 6   Gender         1006 non-null   object \n",
            " 7   Product line   1006 non-null   object \n",
            " 8   Unit price     1006 non-null   object \n",
            " 9   Quantity       1006 non-null   int64  \n",
            " 10  Tax 5%         997 non-null    float64\n",
            " 11  Total          1003 non-null   float64\n",
            " 12  Date           1006 non-null   object \n",
            " 13  Time           1006 non-null   object \n",
            " 14  Payment        1006 non-null   object \n",
            " 15  Rating         1006 non-null   float64\n",
            "dtypes: float64(3), int64(4), object(9)\n",
            "memory usage: 125.9+ KB\n",
            "None\n",
            "            Yangon    Naypyitaw     Mandalay     Quantity      Tax 5%  \\\n",
            "count  1006.000000  1006.000000  1006.000000  1006.000000  997.000000   \n",
            "mean      0.338966     0.329026     0.332008     5.469185   15.479682   \n",
            "std       0.473594     0.470093     0.471168     3.014153   11.728320   \n",
            "min       0.000000     0.000000     0.000000    -8.000000    0.508500   \n",
            "25%       0.000000     0.000000     0.000000     3.000000    5.986500   \n",
            "50%       0.000000     0.000000     0.000000     5.000000   12.227500   \n",
            "75%       1.000000     1.000000     1.000000     8.000000   22.720500   \n",
            "max       1.000000     1.000000     1.000000    10.000000   49.650000   \n",
            "\n",
            "             Total       Rating  \n",
            "count  1003.000000  1006.000000  \n",
            "mean    322.734689     7.056163  \n",
            "std     245.865964     3.318751  \n",
            "min      10.678500     4.000000  \n",
            "25%     123.789750     5.500000  \n",
            "50%     254.016000     7.000000  \n",
            "75%     471.009000     8.500000  \n",
            "max    1042.650000    97.000000  \n"
          ]
        }
      ],
      "source": [
        "print(df.info())\n",
        "print(df.describe())"
      ]
    },
    {
      "cell_type": "markdown",
      "metadata": {},
      "source": [
        "2. Data Type Validation"
      ]
    },
    {
      "cell_type": "code",
      "execution_count": 67,
      "metadata": {},
      "outputs": [],
      "source": [
        "df['Unit price'] = df['Unit price'].astype(str).str.replace('[^\\d.]', '', regex=True)\n"
      ]
    },
    {
      "cell_type": "code",
      "execution_count": 68,
      "metadata": {},
      "outputs": [
        {
          "name": "stdout",
          "output_type": "stream",
          "text": [
            "Column 'Invoice ID' data type is correct: object.\n",
            "Column 'Branch' data type is correct: object.\n",
            "Column 'Yangon' has a mismatched data type: Expected object, but got int64.\n",
            "Column 'Naypyitaw' has a mismatched data type: Expected object, but got int64.\n",
            "Column 'Mandalay' has a mismatched data type: Expected object, but got int64.\n",
            "Column 'Customer type' data type is correct: object.\n",
            "Column 'Gender' data type is correct: object.\n",
            "Column 'Product line' data type is correct: object.\n",
            "Column 'Unit price' has a mismatched data type: Expected float64, but got object.\n",
            "Column 'Quantity' data type is correct: int64.\n",
            "Column 'Tax 5%' data type is correct: float64.\n",
            "Column 'Total' data type is correct: float64.\n",
            "Column 'Date' data type is correct: object.\n",
            "Column 'Time' data type is correct: object.\n",
            "Column 'Payment' data type is correct: object.\n",
            "Column 'Rating' data type is correct: float64.\n"
          ]
        }
      ],
      "source": [
        "# Define expected data types for each column\n",
        "expected_dtypes = {\n",
        "    'Invoice ID': 'object',  \n",
        "    'Branch': 'object',\n",
        "    'Yangon': 'object',\n",
        "    'Naypyitaw': 'object',\n",
        "    'Mandalay': 'object',\n",
        "    'Customer type': 'object',\n",
        "    'Gender': 'object',\n",
        "    'Product line': 'object',\n",
        "    'Unit price': 'float64', \n",
        "    'Quantity': 'int64',      \n",
        "    'Tax 5%': 'float64',\n",
        "    'Total': 'float64',\n",
        "    'Date': 'object',         \n",
        "    'Time': 'object',\n",
        "    'Payment': 'object',\n",
        "    'Rating': 'float64'\n",
        "}\n",
        "\n",
        "# Check actual data types of the DataFrame\n",
        "actual_dtypes = df.dtypes.to_dict()\n",
        "\n",
        "# Compare expected vs. actual data types\n",
        "for col, expected_dtype in expected_dtypes.items():\n",
        "    actual_dtype = actual_dtypes.get(col)\n",
        "    if actual_dtype != expected_dtype:\n",
        "        print(f\"Column '{col}' has a mismatched data type: Expected {expected_dtype}, but got {actual_dtype}.\")\n",
        "    else:\n",
        "        print(f\"Column '{col}' data type is correct: {expected_dtype}.\")\n"
      ]
    },
    {
      "cell_type": "code",
      "execution_count": 69,
      "metadata": {},
      "outputs": [
        {
          "name": "stdout",
          "output_type": "stream",
          "text": [
            "            Yangon    Naypyitaw     Mandalay     Quantity      Tax 5%  \\\n",
            "count  1006.000000  1006.000000  1006.000000  1006.000000  997.000000   \n",
            "mean      0.338966     0.329026     0.332008     5.469185   15.479682   \n",
            "std       0.473594     0.470093     0.471168     3.014153   11.728320   \n",
            "min       0.000000     0.000000     0.000000    -8.000000    0.508500   \n",
            "25%       0.000000     0.000000     0.000000     3.000000    5.986500   \n",
            "50%       0.000000     0.000000     0.000000     5.000000   12.227500   \n",
            "75%       1.000000     1.000000     1.000000     8.000000   22.720500   \n",
            "max       1.000000     1.000000     1.000000    10.000000   49.650000   \n",
            "\n",
            "             Total       Rating  \n",
            "count  1003.000000  1006.000000  \n",
            "mean    322.734689     7.056163  \n",
            "std     245.865964     3.318751  \n",
            "min      10.678500     4.000000  \n",
            "25%     123.789750     5.500000  \n",
            "50%     254.016000     7.000000  \n",
            "75%     471.009000     8.500000  \n",
            "max    1042.650000    97.000000  \n"
          ]
        }
      ],
      "source": [
        "print(df.describe())"
      ]
    },
    {
      "cell_type": "markdown",
      "metadata": {},
      "source": [
        "3. Check for Missing Values"
      ]
    },
    {
      "cell_type": "code",
      "execution_count": 70,
      "metadata": {},
      "outputs": [
        {
          "name": "stdout",
          "output_type": "stream",
          "text": [
            "Invoice ID       0\n",
            "Branch           0\n",
            "Yangon           0\n",
            "Naypyitaw        0\n",
            "Mandalay         0\n",
            "Customer type    0\n",
            "Gender           0\n",
            "Product line     0\n",
            "Unit price       0\n",
            "Quantity         0\n",
            "Tax 5%           9\n",
            "Total            3\n",
            "Date             0\n",
            "Time             0\n",
            "Payment          0\n",
            "Rating           0\n",
            "dtype: int64\n"
          ]
        }
      ],
      "source": [
        "missing_values = df.isnull().sum() \n",
        "print(missing_values)"
      ]
    },
    {
      "cell_type": "markdown",
      "metadata": {},
      "source": [
        "4. Check for Duplicated Rows"
      ]
    },
    {
      "cell_type": "code",
      "execution_count": 71,
      "metadata": {},
      "outputs": [
        {
          "name": "stdout",
          "output_type": "stream",
          "text": [
            "Number of duplicated rows: 6\n"
          ]
        }
      ],
      "source": [
        "num_duplicates = df.duplicated().sum()\n",
        "\n",
        "print(f\"Number of duplicated rows: {num_duplicates}\")"
      ]
    },
    {
      "cell_type": "markdown",
      "metadata": {},
      "source": [
        "5. Check for Outliesrs"
      ]
    },
    {
      "cell_type": "code",
      "execution_count": 72,
      "metadata": {},
      "outputs": [
        {
          "data": {
            "image/png": "[encoded data removed]",
            "text/plain": [
              "<Figure size 640x480 with 1 Axes>"
            ]
          },
          "metadata": {},
          "output_type": "display_data"
        }
      ],
      "source": [
        "df['Unit price'] = pd.to_numeric(df['Unit price'], errors='coerce')\n",
        "\n",
        "#Detect Outliers in price\n",
        "sns.boxplot(x=df['Unit price'])\n",
        "plt.show()"
      ]
    },
    {
      "cell_type": "code",
      "execution_count": 73,
      "metadata": {},
      "outputs": [
        {
          "data": {
            "image/png": "[encoded data removed]",
            "text/plain": [
              "<Figure size 640x480 with 1 Axes>"
            ]
          },
          "metadata": {},
          "output_type": "display_data"
        }
      ],
      "source": [
        "#Detect Outliers in Quantity\n",
        "sns.boxplot(x=df['Quantity'])\n",
        "plt.show()"
      ]
    },
    {
      "cell_type": "code",
      "execution_count": 74,
      "metadata": {},
      "outputs": [
        {
          "data": {
            "image/png": "[encoded data removed]",
            "text/plain": [
              "<Figure size 640x480 with 1 Axes>"
            ]
          },
          "metadata": {},
          "output_type": "display_data"
        }
      ],
      "source": [
        "#Detect Outliers in Tax\n",
        "sns.boxplot(x=df['Tax 5%'])\n",
        "plt.show()"
      ]
    },
    {
      "cell_type": "code",
      "execution_count": 75,
      "metadata": {},
      "outputs": [
        {
          "data": {
            "image/png": "[encoded data removed]",
            "text/plain": [
              "<Figure size 640x480 with 1 Axes>"
            ]
          },
          "metadata": {},
          "output_type": "display_data"
        }
      ],
      "source": [
        "#Detect Outliers in Total\n",
        "sns.boxplot(x=df['Total'])\n",
        "plt.show()"
      ]
    },
    {
      "cell_type": "code",
      "execution_count": 76,
      "metadata": {},
      "outputs": [
        {
          "data": {
            "image/png": "[encoded data removed]",
            "text/plain": [
              "<Figure size 640x480 with 1 Axes>"
            ]
          },
          "metadata": {},
          "output_type": "display_data"
        }
      ],
      "source": [
        "#Detect Outliers in Rating\n",
        "sns.boxplot(x=df['Rating'])\n",
        "plt.show()"
      ]
    },
    {
      "cell_type": "markdown",
      "metadata": {},
      "source": [
        "# Quality issues\n",
        "##### `Supermarket Sales` \n",
        " 1.  there are 6 duplicated rows \n",
        " 2.  there are missing values in 'tax' & 'total' columns\n",
        " 3.  'Customer type' column contains missing values represented as '-'\n",
        " 4.  'Time' column contains a value with 'pm' word \n",
        " 5.  'Time' column contains a value with different format '8-30'\n",
        " 6.  some values in 'Unit price' column contains 'USD' word\n",
        " 7.  'Quantity' column contains negative values\n",
        " 8.  some types in 'Customer type' column represented by 'Memberr' instead of 'Member'\n",
        " 9.  'Tax 5%' column contains more than 2 decimals\n",
        " 10.  'Total' column contains more than 2 decimals\n",
        " 11.  'Quantity' column contains some outliers\n",
        " 12.  'Tax 5%' column contains some outliers\n",
        " 13.  'Total' column contains some outliers\n",
        " 14.  'Rating' column contains some outliers\n",
        " 15.  Use Standard format for Date \n",
        " 16. Correct ''\n",
        "\n",
        "\n",
        "\n"
      ]
    },
    {
      "cell_type": "markdown",
      "metadata": {},
      "source": [
        "# Cleaning"
      ]
    },
    {
      "cell_type": "code",
      "execution_count": 77,
      "metadata": {},
      "outputs": [],
      "source": [
        "Data_clean = df.copy()\n"
      ]
    },
    {
      "cell_type": "markdown",
      "metadata": {},
      "source": [
        "#####   Delete duplicated rows"
      ]
    },
    {
      "cell_type": "code",
      "execution_count": 78,
      "metadata": {},
      "outputs": [],
      "source": [
        "Data_clean = Data_clean.drop_duplicates()"
      ]
    },
    {
      "cell_type": "markdown",
      "metadata": {},
      "source": [
        "#####   Convert negative values to positive ones in \"Quantity\" column"
      ]
    },
    {
      "cell_type": "code",
      "execution_count": 79,
      "metadata": {},
      "outputs": [],
      "source": [
        "Data_clean['Quantity'] = Data_clean['Quantity'].abs()"
      ]
    },
    {
      "cell_type": "markdown",
      "metadata": {},
      "source": [
        "#####   Remove 'USD' in 'Unit price' column and convert the data type to numeric"
      ]
    },
    {
      "cell_type": "code",
      "execution_count": 80,
      "metadata": {},
      "outputs": [],
      "source": [
        "# Data_clean['Unit price'] = Data_clean['Unit price'].astype(str).str.replace('[^\\d.]', '', regex=True)\n"
      ]
    },
    {
      "cell_type": "code",
      "execution_count": 81,
      "metadata": {},
      "outputs": [],
      "source": [
        "# Data_clean['Unit price'] = Data_clean['Unit price'].astype(str).str.replace('USD', '', regex=False)\n",
        "# Data_clean['Unit price'] = pd.to_numeric(Data_clean['Unit price'])"
      ]
    },
    {
      "cell_type": "code",
      "execution_count": 82,
      "metadata": {},
      "outputs": [
        {
          "data": {
            "text/plain": [
              "0"
            ]
          },
          "execution_count": 82,
          "metadata": {},
          "output_type": "execute_result"
        }
      ],
      "source": [
        "contains_usd = Data_clean['Unit price'].astype(str).str.contains('USD', na=False)\n",
        "contains_usd.sum()"
      ]
    },
    {
      "cell_type": "code",
      "execution_count": 83,
      "metadata": {},
      "outputs": [],
      "source": [
        "# Data_clean['Unit price'] = Data_clean['Unit price'].replace('nan', '', regex=False)\n"
      ]
    },
    {
      "cell_type": "markdown",
      "metadata": {},
      "source": [
        "##### Replace 'Memberr' with 'Member' in 'Customer type' column"
      ]
    },
    {
      "cell_type": "code",
      "execution_count": 84,
      "metadata": {},
      "outputs": [],
      "source": [
        "Data_clean['Customer type'] = Data_clean['Customer type'].astype(str).str.replace('Memberr', 'Member', regex=False)\n"
      ]
    },
    {
      "cell_type": "markdown",
      "metadata": {},
      "source": [
        "#####   Remove 'PM' in 'Time' column and Change it to 24 format "
      ]
    },
    {
      "cell_type": "code",
      "execution_count": 85,
      "metadata": {},
      "outputs": [],
      "source": [
        "#function to change to 24 hr format\n",
        "def convert_time_column(time_str):\n",
        "    return datetime.strptime(time_str.replace(' - ', ':'), \"%I:%M %p\").strftime(\"%H:%M\")\n"
      ]
    },
    {
      "cell_type": "code",
      "execution_count": 86,
      "metadata": {},
      "outputs": [],
      "source": [
        "#aaply the function\n",
        "pm_rows = Data_clean['Time'].str.contains('PM')\n",
        "Data_clean.loc[pm_rows, 'Time'] = Data_clean.loc[pm_rows, 'Time'].apply(convert_time_column)\n"
      ]
    },
    {
      "cell_type": "markdown",
      "metadata": {},
      "source": [
        "#####   Replace '-' in 'Customer type' column with Nulls"
      ]
    },
    {
      "cell_type": "code",
      "execution_count": 87,
      "metadata": {},
      "outputs": [],
      "source": [
        "Data_clean['Customer type'] = Data_clean['Customer type'].replace('-', np.nan)\n"
      ]
    },
    {
      "cell_type": "markdown",
      "metadata": {},
      "source": [
        "##### Test"
      ]
    },
    {
      "cell_type": "code",
      "execution_count": 88,
      "metadata": {},
      "outputs": [
        {
          "name": "stdout",
          "output_type": "stream",
          "text": [
            "Number of missing values in 'Customer type' column: 27\n"
          ]
        }
      ],
      "source": [
        "missing_values_count = Data_clean['Customer type'].isnull().sum()\n",
        "\n",
        "print(f\"Number of missing values in 'Customer type' column: {missing_values_count}\")"
      ]
    },
    {
      "cell_type": "markdown",
      "metadata": {},
      "source": [
        "#### Missing Values:\n",
        "- Customer type    27\n",
        "- Tax 5%           9\n",
        "- Total            3"
      ]
    },
    {
      "cell_type": "markdown",
      "metadata": {},
      "source": [
        "##### Handeling Method :\n",
        "1. Delete 27 rows that contains missing values in 'Customer type' column\n",
        "2. Replace missing valuse in 'Tax' column using equation : Tax = Unite price * Quantity * 0.05\n",
        "3. Replace missing values in 'Total' column using equation : Total = Unit price * Quantity + Tax"
      ]
    },
    {
      "cell_type": "code",
      "execution_count": 89,
      "metadata": {},
      "outputs": [
        {
          "data": {
            "text/html": [
              "<div>\n",
              "<style scoped>\n",
              "    .dataframe tbody tr th:only-of-type {\n",
              "        vertical-align: middle;\n",
              "    }\n",
              "\n",
              "    .dataframe tbody tr th {\n",
              "        vertical-align: top;\n",
              "    }\n",
              "\n",
              "    .dataframe thead th {\n",
              "        text-align: right;\n",
              "    }\n",
              "</style>\n",
              "<table border=\"1\" class=\"dataframe\">\n",
              "  <thead>\n",
              "    <tr style=\"text-align: right;\">\n",
              "      <th></th>\n",
              "      <th>Invoice ID</th>\n",
              "      <th>Branch</th>\n",
              "      <th>Yangon</th>\n",
              "      <th>Naypyitaw</th>\n",
              "      <th>Mandalay</th>\n",
              "      <th>Customer type</th>\n",
              "      <th>Gender</th>\n",
              "      <th>Product line</th>\n",
              "      <th>Unit price</th>\n",
              "      <th>Quantity</th>\n",
              "      <th>Tax 5%</th>\n",
              "      <th>Total</th>\n",
              "      <th>Date</th>\n",
              "      <th>Time</th>\n",
              "      <th>Payment</th>\n",
              "      <th>Rating</th>\n",
              "    </tr>\n",
              "  </thead>\n",
              "  <tbody>\n",
              "    <tr>\n",
              "      <th>3</th>\n",
              "      <td>123-19-1176</td>\n",
              "      <td>A</td>\n",
              "      <td>1</td>\n",
              "      <td>0</td>\n",
              "      <td>0</td>\n",
              "      <td>Normal</td>\n",
              "      <td>Male</td>\n",
              "      <td>Health and beauty</td>\n",
              "      <td>58.22</td>\n",
              "      <td>8</td>\n",
              "      <td>NaN</td>\n",
              "      <td>489.0480</td>\n",
              "      <td>1/27/2019</td>\n",
              "      <td>20:30</td>\n",
              "      <td>Ewallet</td>\n",
              "      <td>8.4</td>\n",
              "    </tr>\n",
              "    <tr>\n",
              "      <th>8</th>\n",
              "      <td>665-32-9167</td>\n",
              "      <td>A</td>\n",
              "      <td>1</td>\n",
              "      <td>0</td>\n",
              "      <td>0</td>\n",
              "      <td>Normal</td>\n",
              "      <td>Male</td>\n",
              "      <td>Health and beauty</td>\n",
              "      <td>36.26</td>\n",
              "      <td>2</td>\n",
              "      <td>NaN</td>\n",
              "      <td>76.1460</td>\n",
              "      <td>1/10/2019</td>\n",
              "      <td>17:15</td>\n",
              "      <td>Credit card</td>\n",
              "      <td>7.2</td>\n",
              "    </tr>\n",
              "    <tr>\n",
              "      <th>86</th>\n",
              "      <td>362-58-8315</td>\n",
              "      <td>C</td>\n",
              "      <td>0</td>\n",
              "      <td>1</td>\n",
              "      <td>0</td>\n",
              "      <td>Normal</td>\n",
              "      <td>Male</td>\n",
              "      <td>Fashion accessories</td>\n",
              "      <td>76.52</td>\n",
              "      <td>5</td>\n",
              "      <td>NaN</td>\n",
              "      <td>401.7300</td>\n",
              "      <td>3/25/2019</td>\n",
              "      <td>10:23</td>\n",
              "      <td>Cash</td>\n",
              "      <td>9.9</td>\n",
              "    </tr>\n",
              "    <tr>\n",
              "      <th>92</th>\n",
              "      <td>873-51-0671</td>\n",
              "      <td>A</td>\n",
              "      <td>1</td>\n",
              "      <td>0</td>\n",
              "      <td>0</td>\n",
              "      <td>Member</td>\n",
              "      <td>Female</td>\n",
              "      <td>Sports and travel</td>\n",
              "      <td>21.98</td>\n",
              "      <td>7</td>\n",
              "      <td>NaN</td>\n",
              "      <td>161.5530</td>\n",
              "      <td>1/10/2019</td>\n",
              "      <td>16:42</td>\n",
              "      <td>Ewallet</td>\n",
              "      <td>5.1</td>\n",
              "    </tr>\n",
              "    <tr>\n",
              "      <th>97</th>\n",
              "      <td>871-39-9221</td>\n",
              "      <td>C</td>\n",
              "      <td>0</td>\n",
              "      <td>1</td>\n",
              "      <td>0</td>\n",
              "      <td>Normal</td>\n",
              "      <td>Female</td>\n",
              "      <td>Electronic accessories</td>\n",
              "      <td>12.45</td>\n",
              "      <td>6</td>\n",
              "      <td>NaN</td>\n",
              "      <td>78.4350</td>\n",
              "      <td>2/9/2019</td>\n",
              "      <td>13:11</td>\n",
              "      <td>Cash</td>\n",
              "      <td>4.1</td>\n",
              "    </tr>\n",
              "    <tr>\n",
              "      <th>629</th>\n",
              "      <td>308-39-1707</td>\n",
              "      <td>A</td>\n",
              "      <td>1</td>\n",
              "      <td>0</td>\n",
              "      <td>0</td>\n",
              "      <td>Normal</td>\n",
              "      <td>Female</td>\n",
              "      <td>Fashion accessories</td>\n",
              "      <td>12.09</td>\n",
              "      <td>1</td>\n",
              "      <td>NaN</td>\n",
              "      <td>12.6945</td>\n",
              "      <td>1/26/2019</td>\n",
              "      <td>18:19</td>\n",
              "      <td>Credit card</td>\n",
              "      <td>8.2</td>\n",
              "    </tr>\n",
              "    <tr>\n",
              "      <th>830</th>\n",
              "      <td>237-44-6163</td>\n",
              "      <td>A</td>\n",
              "      <td>1</td>\n",
              "      <td>0</td>\n",
              "      <td>0</td>\n",
              "      <td>Normal</td>\n",
              "      <td>Male</td>\n",
              "      <td>Electronic accessories</td>\n",
              "      <td>10.56</td>\n",
              "      <td>8</td>\n",
              "      <td>NaN</td>\n",
              "      <td>88.7040</td>\n",
              "      <td>1/24/2019</td>\n",
              "      <td>17:43</td>\n",
              "      <td>Cash</td>\n",
              "      <td>7.6</td>\n",
              "    </tr>\n",
              "    <tr>\n",
              "      <th>881</th>\n",
              "      <td>115-38-7388</td>\n",
              "      <td>C</td>\n",
              "      <td>0</td>\n",
              "      <td>1</td>\n",
              "      <td>0</td>\n",
              "      <td>Member</td>\n",
              "      <td>Female</td>\n",
              "      <td>Fashion accessories</td>\n",
              "      <td>10.18</td>\n",
              "      <td>8</td>\n",
              "      <td>NaN</td>\n",
              "      <td>85.5120</td>\n",
              "      <td>3/30/2019</td>\n",
              "      <td>12:51</td>\n",
              "      <td>Credit card</td>\n",
              "      <td>9.5</td>\n",
              "    </tr>\n",
              "    <tr>\n",
              "      <th>903</th>\n",
              "      <td>865-41-9075</td>\n",
              "      <td>A</td>\n",
              "      <td>1</td>\n",
              "      <td>0</td>\n",
              "      <td>0</td>\n",
              "      <td>Normal</td>\n",
              "      <td>Male</td>\n",
              "      <td>Food and beverages</td>\n",
              "      <td>11.53</td>\n",
              "      <td>7</td>\n",
              "      <td>NaN</td>\n",
              "      <td>84.7455</td>\n",
              "      <td>1/28/2019</td>\n",
              "      <td>17:35</td>\n",
              "      <td>Cash</td>\n",
              "      <td>8.1</td>\n",
              "    </tr>\n",
              "  </tbody>\n",
              "</table>\n",
              "</div>"
            ],
            "text/plain": [
              "      Invoice ID Branch  Yangon  Naypyitaw  Mandalay Customer type  Gender  \\\n",
              "3    123-19-1176      A       1          0         0        Normal    Male   \n",
              "8    665-32-9167      A       1          0         0        Normal    Male   \n",
              "86   362-58-8315      C       0          1         0        Normal    Male   \n",
              "92   873-51-0671      A       1          0         0        Member  Female   \n",
              "97   871-39-9221      C       0          1         0        Normal  Female   \n",
              "629  308-39-1707      A       1          0         0        Normal  Female   \n",
              "830  237-44-6163      A       1          0         0        Normal    Male   \n",
              "881  115-38-7388      C       0          1         0        Member  Female   \n",
              "903  865-41-9075      A       1          0         0        Normal    Male   \n",
              "\n",
              "               Product line  Unit price  Quantity  Tax 5%     Total  \\\n",
              "3         Health and beauty       58.22         8     NaN  489.0480   \n",
              "8         Health and beauty       36.26         2     NaN   76.1460   \n",
              "86      Fashion accessories       76.52         5     NaN  401.7300   \n",
              "92        Sports and travel       21.98         7     NaN  161.5530   \n",
              "97   Electronic accessories       12.45         6     NaN   78.4350   \n",
              "629     Fashion accessories       12.09         1     NaN   12.6945   \n",
              "830  Electronic accessories       10.56         8     NaN   88.7040   \n",
              "881     Fashion accessories       10.18         8     NaN   85.5120   \n",
              "903      Food and beverages       11.53         7     NaN   84.7455   \n",
              "\n",
              "          Date   Time      Payment  Rating  \n",
              "3    1/27/2019  20:30      Ewallet     8.4  \n",
              "8    1/10/2019  17:15  Credit card     7.2  \n",
              "86   3/25/2019  10:23         Cash     9.9  \n",
              "92   1/10/2019  16:42      Ewallet     5.1  \n",
              "97    2/9/2019  13:11         Cash     4.1  \n",
              "629  1/26/2019  18:19  Credit card     8.2  \n",
              "830  1/24/2019  17:43         Cash     7.6  \n",
              "881  3/30/2019  12:51  Credit card     9.5  \n",
              "903  1/28/2019  17:35         Cash     8.1  "
            ]
          },
          "execution_count": 89,
          "metadata": {},
          "output_type": "execute_result"
        }
      ],
      "source": [
        "rows_with_missing_tax = Data_clean[Data_clean['Tax 5%'].isnull()]\n",
        "rows_with_missing_tax"
      ]
    },
    {
      "cell_type": "code",
      "execution_count": 90,
      "metadata": {},
      "outputs": [],
      "source": [
        "# Drop rows with missing values in the 'Customer type' column\n",
        "Data_clean = Data_clean.dropna(subset=['Customer type'])"
      ]
    },
    {
      "cell_type": "code",
      "execution_count": 91,
      "metadata": {},
      "outputs": [
        {
          "name": "stdout",
          "output_type": "stream",
          "text": [
            "Missing values in 'Tax 5%': 0\n"
          ]
        }
      ],
      "source": [
        "# Replace missing values in 'Tax' column using the given equation\n",
        "Data_clean['Tax 5%'] = Data_clean['Tax 5%'].fillna(Data_clean['Unit price'] * Data_clean['Quantity'] * 0.05)\n",
        "\n",
        "# Verify replacement\n",
        "print(f\"Missing values in 'Tax 5%': {Data_clean['Tax 5%'].isnull().sum()}\")\n"
      ]
    },
    {
      "cell_type": "code",
      "execution_count": 92,
      "metadata": {},
      "outputs": [
        {
          "name": "stdout",
          "output_type": "stream",
          "text": [
            "Missing values in 'Total': 0\n"
          ]
        }
      ],
      "source": [
        "# Replace missing values in 'Total' column using the given equation\n",
        "Data_clean['Total'] = Data_clean['Total'].fillna(Data_clean['Unit price'] * Data_clean['Quantity'] + Data_clean['Tax 5%'])\n",
        "\n",
        "# Verify replacement\n",
        "print(f\"Missing values in 'Total': {Data_clean['Total'].isnull().sum()}\")"
      ]
    },
    {
      "cell_type": "markdown",
      "metadata": {},
      "source": [
        "##### Show outlier values and remove them if necessary"
      ]
    },
    {
      "cell_type": "code",
      "execution_count": 93,
      "metadata": {},
      "outputs": [
        {
          "name": "stdout",
          "output_type": "stream",
          "text": [
            "Outlier Values based on IQR method:\n",
            " Series([], Name: Quantity, dtype: int64)\n"
          ]
        }
      ],
      "source": [
        "Q1 = Data_clean['Quantity'].quantile(0.25)\n",
        "Q3 = Data_clean['Quantity'].quantile(0.75)\n",
        "IQR = Q3 - Q1\n",
        "\n",
        "# Define outliers based on 1.5 * IQR\n",
        "lower_bound = Q1 - 1.5 * IQR\n",
        "upper_bound = Q3 + 1.5 * IQR\n",
        "\n",
        "# Filter the outliers\n",
        "outliers = Data_clean[(Data_clean['Quantity'] < lower_bound) | (Data_clean['Quantity'] > upper_bound)]\n",
        "\n",
        "# Display the outlier values\n",
        "print(\"Outlier Values based on IQR method:\\n\", outliers['Quantity'])"
      ]
    },
    {
      "cell_type": "markdown",
      "metadata": {},
      "source": [
        "##### No outliers in 'Quality' After solving the -ve issue\n"
      ]
    },
    {
      "cell_type": "code",
      "execution_count": 94,
      "metadata": {},
      "outputs": [
        {
          "name": "stdout",
          "output_type": "stream",
          "text": [
            "Outlier Values based on IQR method:\n",
            " 166    47.790\n",
            "167    49.490\n",
            "350    49.650\n",
            "357    47.720\n",
            "422    48.605\n",
            "557    49.260\n",
            "699    48.750\n",
            "792    48.685\n",
            "996    48.690\n",
            "Name: Tax 5%, dtype: float64 166    10\n",
            "167    10\n",
            "350    10\n",
            "357    10\n",
            "422    10\n",
            "557    10\n",
            "699    10\n",
            "792    10\n",
            "996    10\n",
            "Name: Quantity, dtype: int64 166     Home and lifestyle\n",
            "167    Fashion accessories\n",
            "350    Fashion accessories\n",
            "357      Sports and travel\n",
            "422    Fashion accessories\n",
            "557     Food and beverages\n",
            "699     Home and lifestyle\n",
            "792     Home and lifestyle\n",
            "996     Home and lifestyle\n",
            "Name: Product line, dtype: object\n"
          ]
        }
      ],
      "source": [
        "Q1 = Data_clean['Tax 5%'].quantile(0.25)\n",
        "Q3 = Data_clean['Tax 5%'].quantile(0.75)\n",
        "IQR = Q3 - Q1\n",
        "\n",
        "# Define outliers based on 1.5 * IQR\n",
        "lower_bound = Q1 - 1.5 * IQR\n",
        "upper_bound = Q3 + 1.5 * IQR\n",
        "\n",
        "# Filter the outliers\n",
        "outliers = Data_clean[(Data_clean['Tax 5%'] < lower_bound) | (Data_clean['Tax 5%'] > upper_bound)]\n",
        "\n",
        "# Display the outlier values\n",
        "print(\"Outlier Values based on IQR method:\\n\", outliers['Tax 5%'],outliers['Quantity'],outliers['Product line'])"
      ]
    },
    {
      "cell_type": "code",
      "execution_count": 95,
      "metadata": {},
      "outputs": [
        {
          "data": {
            "text/plain": [
              "166    95.58\n",
              "167    98.98\n",
              "350    99.30\n",
              "357    95.44\n",
              "422    97.21\n",
              "557    98.52\n",
              "699    97.50\n",
              "792    97.37\n",
              "996    97.38\n",
              "Name: Unit price, dtype: float64"
            ]
          },
          "execution_count": 95,
          "metadata": {},
          "output_type": "execute_result"
        }
      ],
      "source": [
        "outliers['Unit price']"
      ]
    },
    {
      "cell_type": "markdown",
      "metadata": {},
      "source": [
        "##### The outliers in the Tax 5% seem to be reasonable and don't need to be removed based on the unit price and quantity"
      ]
    },
    {
      "cell_type": "code",
      "execution_count": 96,
      "metadata": {},
      "outputs": [
        {
          "name": "stdout",
          "output_type": "stream",
          "text": [
            "Outlier Values based on IQR method:\n",
            " 166    1003.590\n",
            "167    1039.290\n",
            "350    1042.650\n",
            "357    1002.120\n",
            "422    1020.705\n",
            "557    1034.460\n",
            "699    1023.750\n",
            "792    1022.385\n",
            "996    1022.490\n",
            "Name: Total, dtype: float64 166    10\n",
            "167    10\n",
            "350    10\n",
            "357    10\n",
            "422    10\n",
            "557    10\n",
            "699    10\n",
            "792    10\n",
            "996    10\n",
            "Name: Quantity, dtype: int64 166     Home and lifestyle\n",
            "167    Fashion accessories\n",
            "350    Fashion accessories\n",
            "357      Sports and travel\n",
            "422    Fashion accessories\n",
            "557     Food and beverages\n",
            "699     Home and lifestyle\n",
            "792     Home and lifestyle\n",
            "996     Home and lifestyle\n",
            "Name: Product line, dtype: object\n"
          ]
        }
      ],
      "source": [
        "Q1 = Data_clean['Total'].quantile(0.25)\n",
        "Q3 = Data_clean['Total'].quantile(0.75)\n",
        "IQR = Q3 - Q1\n",
        "\n",
        "# Define outliers based on 1.5 * IQR\n",
        "lower_bound = Q1 - 1.5 * IQR\n",
        "upper_bound = Q3 + 1.5 * IQR\n",
        "\n",
        "# Filter the outliers\n",
        "outliers = Data_clean[(Data_clean['Total'] < lower_bound) | (Data_clean['Total'] > upper_bound)]\n",
        "\n",
        "# Display the outlier values\n",
        "print(\"Outlier Values based on IQR method:\\n\", outliers['Total'],outliers['Quantity'],outliers['Product line'])"
      ]
    },
    {
      "cell_type": "code",
      "execution_count": 97,
      "metadata": {},
      "outputs": [
        {
          "data": {
            "text/plain": [
              "166    95.58\n",
              "167    98.98\n",
              "350    99.30\n",
              "357    95.44\n",
              "422    97.21\n",
              "557    98.52\n",
              "699    97.50\n",
              "792    97.37\n",
              "996    97.38\n",
              "Name: Unit price, dtype: float64"
            ]
          },
          "execution_count": 97,
          "metadata": {},
          "output_type": "execute_result"
        }
      ],
      "source": [
        "outliers['Unit price']"
      ]
    },
    {
      "cell_type": "markdown",
      "metadata": {},
      "source": [
        "##### Same reason as Tax %5"
      ]
    },
    {
      "cell_type": "code",
      "execution_count": 98,
      "metadata": {},
      "outputs": [
        {
          "name": "stdout",
          "output_type": "stream",
          "text": [
            "Rating Range is [4.0 : 97.0]\n"
          ]
        }
      ],
      "source": [
        "print(f\"Rating Range is [{Data_clean['Rating'].min()} : {Data_clean['Rating'].max()}]\")"
      ]
    },
    {
      "cell_type": "code",
      "execution_count": 99,
      "metadata": {},
      "outputs": [
        {
          "name": "stdout",
          "output_type": "stream",
          "text": [
            "Outlier Values based on IQR method:\n",
            " 157    97.0\n",
            "Name: Rating, dtype: float64\n"
          ]
        }
      ],
      "source": [
        "Q1 = Data_clean['Rating'].quantile(0.25)\n",
        "Q3 = Data_clean['Rating'].quantile(0.75)\n",
        "IQR = Q3 - Q1\n",
        "\n",
        "# Define outliers based on 1.5 * IQR\n",
        "lower_bound = Q1 - 1.5 * IQR\n",
        "upper_bound = Q3 + 1.5 * IQR\n",
        "\n",
        "# Filter the outliers\n",
        "outliers = Data_clean[(Data_clean['Rating'] < lower_bound) | (Data_clean['Rating'] > upper_bound)]\n",
        "\n",
        "# Display the outlier values\n",
        "print(\"Outlier Values based on IQR method:\\n\", outliers['Rating'])"
      ]
    },
    {
      "cell_type": "code",
      "execution_count": 100,
      "metadata": {},
      "outputs": [],
      "source": [
        "# Remove outliers\n",
        "Data_clean = Data_clean[(Data_clean['Rating'] >= lower_bound) & (Data_clean['Rating'] <= upper_bound)]\n"
      ]
    },
    {
      "cell_type": "code",
      "execution_count": 101,
      "metadata": {},
      "outputs": [
        {
          "name": "stdout",
          "output_type": "stream",
          "text": [
            "Rating Range after clean is [4.0 : 10.0]\n"
          ]
        }
      ],
      "source": [
        "print(f\"Rating Range after clean is [{Data_clean['Rating'].min()} : {Data_clean['Rating'].max()}]\")"
      ]
    },
    {
      "cell_type": "markdown",
      "metadata": {},
      "source": [
        "##### Make 'Total' and 'Tax %5' have 2 decimal places like the other numeric columns"
      ]
    },
    {
      "cell_type": "code",
      "execution_count": 102,
      "metadata": {},
      "outputs": [],
      "source": [
        "Data_clean['Total']=Data_clean['Total'].round(2)\n",
        "Data_clean['Tax 5%']=Data_clean['Tax 5%'].round(2)"
      ]
    },
    {
      "cell_type": "markdown",
      "metadata": {},
      "source": [
        "##### Change Date to the Standard Format according to ISO 8601"
      ]
    },
    {
      "cell_type": "code",
      "execution_count": 103,
      "metadata": {},
      "outputs": [],
      "source": [
        "Data_clean['Date'] = pd.to_datetime(Data_clean['Date'], format='%m/%d/%Y', errors='coerce')\n"
      ]
    },
    {
      "cell_type": "code",
      "execution_count": 104,
      "metadata": {},
      "outputs": [
        {
          "data": {
            "text/html": [
              "<div>\n",
              "<style scoped>\n",
              "    .dataframe tbody tr th:only-of-type {\n",
              "        vertical-align: middle;\n",
              "    }\n",
              "\n",
              "    .dataframe tbody tr th {\n",
              "        vertical-align: top;\n",
              "    }\n",
              "\n",
              "    .dataframe thead th {\n",
              "        text-align: right;\n",
              "    }\n",
              "</style>\n",
              "<table border=\"1\" class=\"dataframe\">\n",
              "  <thead>\n",
              "    <tr style=\"text-align: right;\">\n",
              "      <th></th>\n",
              "      <th>Invoice ID</th>\n",
              "      <th>Branch</th>\n",
              "      <th>Yangon</th>\n",
              "      <th>Naypyitaw</th>\n",
              "      <th>Mandalay</th>\n",
              "      <th>Customer type</th>\n",
              "      <th>Gender</th>\n",
              "      <th>Product line</th>\n",
              "      <th>Unit price</th>\n",
              "      <th>Quantity</th>\n",
              "      <th>Tax 5%</th>\n",
              "      <th>Total</th>\n",
              "      <th>Date</th>\n",
              "      <th>Time</th>\n",
              "      <th>Payment</th>\n",
              "      <th>Rating</th>\n",
              "    </tr>\n",
              "  </thead>\n",
              "  <tbody>\n",
              "    <tr>\n",
              "      <th>0</th>\n",
              "      <td>750-67-8428</td>\n",
              "      <td>A</td>\n",
              "      <td>1</td>\n",
              "      <td>0</td>\n",
              "      <td>0</td>\n",
              "      <td>Normal</td>\n",
              "      <td>Male</td>\n",
              "      <td>Health and beauty</td>\n",
              "      <td>74.69</td>\n",
              "      <td>7</td>\n",
              "      <td>26.14</td>\n",
              "      <td>548.97</td>\n",
              "      <td>2019-01-05</td>\n",
              "      <td>13:08</td>\n",
              "      <td>Ewallet</td>\n",
              "      <td>9.1</td>\n",
              "    </tr>\n",
              "    <tr>\n",
              "      <th>1</th>\n",
              "      <td>226-31-3081</td>\n",
              "      <td>C</td>\n",
              "      <td>0</td>\n",
              "      <td>1</td>\n",
              "      <td>0</td>\n",
              "      <td>Normal</td>\n",
              "      <td>Male</td>\n",
              "      <td>Electronic accessories</td>\n",
              "      <td>15.28</td>\n",
              "      <td>5</td>\n",
              "      <td>3.82</td>\n",
              "      <td>80.22</td>\n",
              "      <td>2019-03-08</td>\n",
              "      <td>10:29</td>\n",
              "      <td>Cash</td>\n",
              "      <td>9.6</td>\n",
              "    </tr>\n",
              "    <tr>\n",
              "      <th>2</th>\n",
              "      <td>631-41-3108</td>\n",
              "      <td>A</td>\n",
              "      <td>1</td>\n",
              "      <td>0</td>\n",
              "      <td>0</td>\n",
              "      <td>Normal</td>\n",
              "      <td>Male</td>\n",
              "      <td>Home and lifestyle</td>\n",
              "      <td>46.33</td>\n",
              "      <td>7</td>\n",
              "      <td>16.22</td>\n",
              "      <td>340.53</td>\n",
              "      <td>2019-03-03</td>\n",
              "      <td>13:23</td>\n",
              "      <td>Credit card</td>\n",
              "      <td>7.4</td>\n",
              "    </tr>\n",
              "    <tr>\n",
              "      <th>3</th>\n",
              "      <td>123-19-1176</td>\n",
              "      <td>A</td>\n",
              "      <td>1</td>\n",
              "      <td>0</td>\n",
              "      <td>0</td>\n",
              "      <td>Normal</td>\n",
              "      <td>Male</td>\n",
              "      <td>Health and beauty</td>\n",
              "      <td>58.22</td>\n",
              "      <td>8</td>\n",
              "      <td>23.29</td>\n",
              "      <td>489.05</td>\n",
              "      <td>2019-01-27</td>\n",
              "      <td>20:30</td>\n",
              "      <td>Ewallet</td>\n",
              "      <td>8.4</td>\n",
              "    </tr>\n",
              "    <tr>\n",
              "      <th>4</th>\n",
              "      <td>373-73-7910</td>\n",
              "      <td>A</td>\n",
              "      <td>1</td>\n",
              "      <td>0</td>\n",
              "      <td>0</td>\n",
              "      <td>Normal</td>\n",
              "      <td>Male</td>\n",
              "      <td>Sports and travel</td>\n",
              "      <td>86.31</td>\n",
              "      <td>7</td>\n",
              "      <td>30.21</td>\n",
              "      <td>634.38</td>\n",
              "      <td>2019-02-08</td>\n",
              "      <td>10:37</td>\n",
              "      <td>Ewallet</td>\n",
              "      <td>5.3</td>\n",
              "    </tr>\n",
              "    <tr>\n",
              "      <th>...</th>\n",
              "      <td>...</td>\n",
              "      <td>...</td>\n",
              "      <td>...</td>\n",
              "      <td>...</td>\n",
              "      <td>...</td>\n",
              "      <td>...</td>\n",
              "      <td>...</td>\n",
              "      <td>...</td>\n",
              "      <td>...</td>\n",
              "      <td>...</td>\n",
              "      <td>...</td>\n",
              "      <td>...</td>\n",
              "      <td>...</td>\n",
              "      <td>...</td>\n",
              "      <td>...</td>\n",
              "      <td>...</td>\n",
              "    </tr>\n",
              "    <tr>\n",
              "      <th>995</th>\n",
              "      <td>233-67-5758</td>\n",
              "      <td>C</td>\n",
              "      <td>0</td>\n",
              "      <td>1</td>\n",
              "      <td>0</td>\n",
              "      <td>Normal</td>\n",
              "      <td>Male</td>\n",
              "      <td>Health and beauty</td>\n",
              "      <td>40.35</td>\n",
              "      <td>1</td>\n",
              "      <td>2.02</td>\n",
              "      <td>42.37</td>\n",
              "      <td>2019-01-29</td>\n",
              "      <td>13:46</td>\n",
              "      <td>Ewallet</td>\n",
              "      <td>6.2</td>\n",
              "    </tr>\n",
              "    <tr>\n",
              "      <th>996</th>\n",
              "      <td>303-96-2227</td>\n",
              "      <td>B</td>\n",
              "      <td>0</td>\n",
              "      <td>0</td>\n",
              "      <td>1</td>\n",
              "      <td>Normal</td>\n",
              "      <td>Female</td>\n",
              "      <td>Home and lifestyle</td>\n",
              "      <td>97.38</td>\n",
              "      <td>10</td>\n",
              "      <td>48.69</td>\n",
              "      <td>1022.49</td>\n",
              "      <td>2019-03-02</td>\n",
              "      <td>17:16</td>\n",
              "      <td>Ewallet</td>\n",
              "      <td>4.4</td>\n",
              "    </tr>\n",
              "    <tr>\n",
              "      <th>997</th>\n",
              "      <td>727-02-1313</td>\n",
              "      <td>A</td>\n",
              "      <td>1</td>\n",
              "      <td>0</td>\n",
              "      <td>0</td>\n",
              "      <td>Member</td>\n",
              "      <td>Male</td>\n",
              "      <td>Food and beverages</td>\n",
              "      <td>31.84</td>\n",
              "      <td>1</td>\n",
              "      <td>1.59</td>\n",
              "      <td>33.43</td>\n",
              "      <td>2019-02-09</td>\n",
              "      <td>13:22</td>\n",
              "      <td>Cash</td>\n",
              "      <td>7.7</td>\n",
              "    </tr>\n",
              "    <tr>\n",
              "      <th>998</th>\n",
              "      <td>347-56-2442</td>\n",
              "      <td>A</td>\n",
              "      <td>1</td>\n",
              "      <td>0</td>\n",
              "      <td>0</td>\n",
              "      <td>Normal</td>\n",
              "      <td>Male</td>\n",
              "      <td>Home and lifestyle</td>\n",
              "      <td>65.82</td>\n",
              "      <td>1</td>\n",
              "      <td>3.29</td>\n",
              "      <td>69.11</td>\n",
              "      <td>2019-02-22</td>\n",
              "      <td>15:33</td>\n",
              "      <td>Cash</td>\n",
              "      <td>4.1</td>\n",
              "    </tr>\n",
              "    <tr>\n",
              "      <th>999</th>\n",
              "      <td>849-09-3807</td>\n",
              "      <td>A</td>\n",
              "      <td>1</td>\n",
              "      <td>0</td>\n",
              "      <td>0</td>\n",
              "      <td>Member</td>\n",
              "      <td>Female</td>\n",
              "      <td>Fashion accessories</td>\n",
              "      <td>88.34</td>\n",
              "      <td>7</td>\n",
              "      <td>30.92</td>\n",
              "      <td>649.30</td>\n",
              "      <td>2019-02-18</td>\n",
              "      <td>13:28</td>\n",
              "      <td>Cash</td>\n",
              "      <td>6.6</td>\n",
              "    </tr>\n",
              "  </tbody>\n",
              "</table>\n",
              "<p>972 rows × 16 columns</p>\n",
              "</div>"
            ],
            "text/plain": [
              "      Invoice ID Branch  Yangon  Naypyitaw  Mandalay Customer type  Gender  \\\n",
              "0    750-67-8428      A       1          0         0        Normal    Male   \n",
              "1    226-31-3081      C       0          1         0        Normal    Male   \n",
              "2    631-41-3108      A       1          0         0        Normal    Male   \n",
              "3    123-19-1176      A       1          0         0        Normal    Male   \n",
              "4    373-73-7910      A       1          0         0        Normal    Male   \n",
              "..           ...    ...     ...        ...       ...           ...     ...   \n",
              "995  233-67-5758      C       0          1         0        Normal    Male   \n",
              "996  303-96-2227      B       0          0         1        Normal  Female   \n",
              "997  727-02-1313      A       1          0         0        Member    Male   \n",
              "998  347-56-2442      A       1          0         0        Normal    Male   \n",
              "999  849-09-3807      A       1          0         0        Member  Female   \n",
              "\n",
              "               Product line  Unit price  Quantity  Tax 5%    Total       Date  \\\n",
              "0         Health and beauty       74.69         7   26.14   548.97 2019-01-05   \n",
              "1    Electronic accessories       15.28         5    3.82    80.22 2019-03-08   \n",
              "2        Home and lifestyle       46.33         7   16.22   340.53 2019-03-03   \n",
              "3         Health and beauty       58.22         8   23.29   489.05 2019-01-27   \n",
              "4         Sports and travel       86.31         7   30.21   634.38 2019-02-08   \n",
              "..                      ...         ...       ...     ...      ...        ...   \n",
              "995       Health and beauty       40.35         1    2.02    42.37 2019-01-29   \n",
              "996      Home and lifestyle       97.38        10   48.69  1022.49 2019-03-02   \n",
              "997      Food and beverages       31.84         1    1.59    33.43 2019-02-09   \n",
              "998      Home and lifestyle       65.82         1    3.29    69.11 2019-02-22   \n",
              "999     Fashion accessories       88.34         7   30.92   649.30 2019-02-18   \n",
              "\n",
              "      Time      Payment  Rating  \n",
              "0    13:08      Ewallet     9.1  \n",
              "1    10:29         Cash     9.6  \n",
              "2    13:23  Credit card     7.4  \n",
              "3    20:30      Ewallet     8.4  \n",
              "4    10:37      Ewallet     5.3  \n",
              "..     ...          ...     ...  \n",
              "995  13:46      Ewallet     6.2  \n",
              "996  17:16      Ewallet     4.4  \n",
              "997  13:22         Cash     7.7  \n",
              "998  15:33         Cash     4.1  \n",
              "999  13:28         Cash     6.6  \n",
              "\n",
              "[972 rows x 16 columns]"
            ]
          },
          "execution_count": 104,
          "metadata": {},
          "output_type": "execute_result"
        }
      ],
      "source": [
        "Data_clean"
      ]
    },
    {
      "cell_type": "code",
      "execution_count": 105,
      "metadata": {},
      "outputs": [
        {
          "name": "stdout",
          "output_type": "stream",
          "text": [
            "<class 'pandas.core.frame.DataFrame'>\n",
            "Int64Index: 972 entries, 0 to 999\n",
            "Data columns (total 16 columns):\n",
            " #   Column         Non-Null Count  Dtype         \n",
            "---  ------         --------------  -----         \n",
            " 0   Invoice ID     972 non-null    object        \n",
            " 1   Branch         972 non-null    object        \n",
            " 2   Yangon         972 non-null    int64         \n",
            " 3   Naypyitaw      972 non-null    int64         \n",
            " 4   Mandalay       972 non-null    int64         \n",
            " 5   Customer type  972 non-null    object        \n",
            " 6   Gender         972 non-null    object        \n",
            " 7   Product line   972 non-null    object        \n",
            " 8   Unit price     972 non-null    float64       \n",
            " 9   Quantity       972 non-null    int64         \n",
            " 10  Tax 5%         972 non-null    float64       \n",
            " 11  Total          972 non-null    float64       \n",
            " 12  Date           972 non-null    datetime64[ns]\n",
            " 13  Time           972 non-null    object        \n",
            " 14  Payment        972 non-null    object        \n",
            " 15  Rating         972 non-null    float64       \n",
            "dtypes: datetime64[ns](1), float64(4), int64(4), object(7)\n",
            "memory usage: 129.1+ KB\n"
          ]
        }
      ],
      "source": [
        "Data_clean.info()"
      ]
    },
    {
      "cell_type": "markdown",
      "metadata": {},
      "source": [
        "##### Correct Spelling"
      ]
    },
    {
      "cell_type": "code",
      "execution_count": 106,
      "metadata": {},
      "outputs": [],
      "source": [
        "Data_clean.rename(columns={'Naypyitaw': 'Naypyidaw'}, inplace=True)\n"
      ]
    },
    {
      "cell_type": "markdown",
      "metadata": {},
      "source": [
        "# Tidiness Issues :\n",
        " 1. 'Yangon' , 'Naypyitaw' and 'Mandalay' columns caould be represeted in one column using the name of the country (Multiple Columns for one value)\n",
        " 2. Remove Branch Column because branch and City have the same meaning 'Yangon' => 'A' , 'Naypyitaw' => 'C' , and 'Mandalay' => 'B'"
      ]
    },
    {
      "cell_type": "code",
      "execution_count": 107,
      "metadata": {},
      "outputs": [],
      "source": [
        "def city(row):\n",
        "    if row['Yangon'] == 1 :\n",
        "        return 'Yangon'\n",
        "    elif row['Naypyidaw'] == 1:\n",
        "        return 'Naypyidaw'\n",
        "    else:\n",
        "        return 'Mandalay'\n"
      ]
    },
    {
      "cell_type": "code",
      "execution_count": 108,
      "metadata": {},
      "outputs": [],
      "source": [
        "Data_clean['City'] = Data_clean.apply(city, axis=1)\n"
      ]
    },
    {
      "cell_type": "code",
      "execution_count": 109,
      "metadata": {},
      "outputs": [
        {
          "data": {
            "text/plain": [
              "Yangon       332\n",
              "Mandalay     322\n",
              "Naypyidaw    318\n",
              "Name: City, dtype: int64"
            ]
          },
          "execution_count": 109,
          "metadata": {},
          "output_type": "execute_result"
        }
      ],
      "source": [
        "Data_clean['City'].value_counts()"
      ]
    },
    {
      "cell_type": "code",
      "execution_count": 110,
      "metadata": {},
      "outputs": [],
      "source": [
        "# Remove 'Yangon' , 'Naypyitaw' and 'Mandalay' columns\n",
        "Data_clean.drop(columns=['Yangon','Naypyidaw','Mandalay'],inplace=True)"
      ]
    },
    {
      "cell_type": "code",
      "execution_count": 111,
      "metadata": {},
      "outputs": [
        {
          "data": {
            "text/plain": [
              "Index(['Invoice ID', 'Branch', 'Customer type', 'Gender', 'Product line',\n",
              "       'Unit price', 'Quantity', 'Tax 5%', 'Total', 'Date', 'Time', 'Payment',\n",
              "       'Rating', 'City'],\n",
              "      dtype='object')"
            ]
          },
          "execution_count": 111,
          "metadata": {},
          "output_type": "execute_result"
        }
      ],
      "source": [
        "Data_clean.columns"
      ]
    },
    {
      "cell_type": "markdown",
      "metadata": {},
      "source": [
        "##### Capitalize  columns name"
      ]
    },
    {
      "cell_type": "code",
      "execution_count": 112,
      "metadata": {},
      "outputs": [],
      "source": [
        "# Function to capitalize column names\n",
        "def capitalize_column_names(df):\n",
        "    df.columns = df.columns.str.title()\n",
        "    return df\n"
      ]
    },
    {
      "cell_type": "code",
      "execution_count": 113,
      "metadata": {},
      "outputs": [],
      "source": [
        "Data_clean=capitalize_column_names(Data_clean)"
      ]
    },
    {
      "cell_type": "markdown",
      "metadata": {},
      "source": [
        "##### Remove Branch Column"
      ]
    },
    {
      "cell_type": "code",
      "execution_count": 114,
      "metadata": {},
      "outputs": [],
      "source": [
        "Data_clean.drop(columns=['Branch'],inplace=True)"
      ]
    },
    {
      "cell_type": "markdown",
      "metadata": {},
      "source": [
        "##### Change final Cleaning dataframe to csv file"
      ]
    },
    {
      "cell_type": "code",
      "execution_count": 115,
      "metadata": {},
      "outputs": [],
      "source": [
        "Data_clean.to_csv('Supermarket Sales Cleaned.csv', index=False)"
      ]
    },
    {
      "cell_type": "code",
      "execution_count": null,
      "metadata": {},
      "outputs": [],
      "source": []
    },
    {
      "cell_type": "code",
      "execution_count": null,
      "metadata": {},
      "outputs": [],
      "source": []
    },
    {
      "cell_type": "code",
      "execution_count": null,
      "metadata": {},
      "outputs": [],
      "source": []
    }
  ],
  "metadata": {
    "colab": {
      "provenance": []
    },
    "kernelspec": {
      "display_name": "Python 3",
      "name": "python3"
    },
    "language_info": {
      "codemirror_mode": {
        "name": "ipython",
        "version": 3
      },
      "file_extension": ".py",
      "mimetype": "text/x-python",
      "name": "python",
      "nbconvert_exporter": "python",
      "pygments_lexer": "ipython3",
      "version": "3.11.2"
    }
  },
  "nbformat": 4,
  "nbformat_minor": 0
}
